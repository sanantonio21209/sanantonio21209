{
 "cells": [
  {
   "cell_type": "code",
   "execution_count": 5,
   "id": "4d322b74",
   "metadata": {
    "ExecuteTime": {
     "end_time": "2022-09-10T04:39:17.511579Z",
     "start_time": "2022-09-10T04:39:17.499770Z"
    }
   },
   "outputs": [
    {
     "data": {
      "text/plain": [
       "NoneType"
      ]
     },
     "execution_count": 5,
     "metadata": {},
     "output_type": "execute_result"
    }
   ],
   "source": [
    "# mine, able to be used\n",
    "\n",
    "# Definition for a binary tree node.\n",
    "# class TreeNode:\n",
    "#     def __init__(self, val=0, left=None, right=None):\n",
    "#         self.val = val\n",
    "#         self.left = left\n",
    "#         self.right = right\n",
    "class Solution:\n",
    "    def trimBST(self, root: Optional[TreeNode], low: int, high: int) -> Optional[TreeNode]:\n",
    "        if root==None: return None\n",
    "        if root.left==None and root.right==None:\n",
    "            if root.val in range(low, high+1): return root\n",
    "            else: return None\n",
    "        if root.val in range(low, high+1):\n",
    "            ans = root\n",
    "            if root.left!=None:\n",
    "                ans.left = self.trimBST(root.left, low, root.val-1)\n",
    "            if root.right!=None:\n",
    "                ans.right = self.trimBST(root.right, root.val+1, high)\n",
    "        elif root.val<low:\n",
    "            ans = self.trimBST(root.right, low, high)\n",
    "        else: # root.val>high\n",
    "            ans = self.trimBST(root.left, low, high)\n",
    "        return ans"
   ]
  },
  {
   "cell_type": "code",
   "execution_count": 1,
   "id": "eb1d7c22",
   "metadata": {},
   "outputs": [
    {
     "data": {
      "text/plain": [
       "True"
      ]
     },
     "execution_count": 1,
     "metadata": {},
     "output_type": "execute_result"
    }
   ],
   "source": [
    "2 in range(2,3)"
   ]
  },
  {
   "cell_type": "code",
   "execution_count": 2,
   "id": "74e5f788-e2b6-414e-8818-4d985eb77747",
   "metadata": {},
   "outputs": [
    {
     "data": {
      "text/plain": [
       "False"
      ]
     },
     "execution_count": 2,
     "metadata": {},
     "output_type": "execute_result"
    }
   ],
   "source": [
    "0 in range(1,1)"
   ]
  },
  {
   "cell_type": "code",
   "execution_count": null,
   "id": "2ba619e1-ada1-47bd-8262-b5ea7c0c9160",
   "metadata": {},
   "outputs": [],
   "source": []
  }
 ],
 "metadata": {
  "hide_input": false,
  "kernelspec": {
   "display_name": "Python 3.10 (XPython)",
   "language": "python",
   "name": "xpython"
  },
  "language_info": {
   "file_extension": ".py",
   "mimetype": "text/x-python",
   "name": "python",
   "version": "3.10.6"
  },
  "toc": {
   "base_numbering": 1,
   "nav_menu": {},
   "number_sections": true,
   "sideBar": true,
   "skip_h1_title": false,
   "title_cell": "Table of Contents",
   "title_sidebar": "Contents",
   "toc_cell": false,
   "toc_position": {},
   "toc_section_display": true,
   "toc_window_display": false
  },
  "varInspector": {
   "cols": {
    "lenName": 16,
    "lenType": 16,
    "lenVar": 40
   },
   "kernels_config": {
    "python": {
     "delete_cmd_postfix": "",
     "delete_cmd_prefix": "del ",
     "library": "var_list.py",
     "varRefreshCmd": "print(var_dic_list())"
    },
    "r": {
     "delete_cmd_postfix": ") ",
     "delete_cmd_prefix": "rm(",
     "library": "var_list.r",
     "varRefreshCmd": "cat(var_dic_list()) "
    }
   },
   "types_to_exclude": [
    "module",
    "function",
    "builtin_function_or_method",
    "instance",
    "_Feature"
   ],
   "window_display": false
  }
 },
 "nbformat": 4,
 "nbformat_minor": 5
}
